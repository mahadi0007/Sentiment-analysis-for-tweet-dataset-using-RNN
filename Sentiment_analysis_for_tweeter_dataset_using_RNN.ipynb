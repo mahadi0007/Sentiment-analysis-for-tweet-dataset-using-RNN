{
  "nbformat": 4,
  "nbformat_minor": 0,
  "metadata": {
    "colab": {
      "name": "Sentiment analysis for tweeter dataset using RNN",
      "provenance": [],
      "collapsed_sections": []
    },
    "kernelspec": {
      "name": "python3",
      "display_name": "Python 3"
    },
    "language_info": {
      "name": "python"
    },
    "accelerator": "GPU"
  },
  "cells": [
    {
      "cell_type": "markdown",
      "metadata": {
        "id": "sruNIBlhgU1w"
      },
      "source": [
        "# Sentiment analysis for tweeter dataset using RNN"
      ]
    },
    {
      "cell_type": "code",
      "metadata": {
        "colab": {
          "base_uri": "https://localhost:8080/"
        },
        "id": "Lxj8KRA5y1dc",
        "outputId": "d576328a-6224-4146-abd7-9c775027b20c"
      },
      "source": [
        "from google.colab import drive\n",
        "drive.mount('/content/drive')"
      ],
      "execution_count": null,
      "outputs": [
        {
          "output_type": "stream",
          "name": "stdout",
          "text": [
            "Mounted at /content/drive\n"
          ]
        }
      ]
    },
    {
      "cell_type": "markdown",
      "metadata": {
        "id": "sKNvEPfDHQFP"
      },
      "source": [
        "# Import Library"
      ]
    },
    {
      "cell_type": "code",
      "metadata": {
        "id": "nm1mUhawylWN"
      },
      "source": [
        "import numpy as np\n",
        "import pandas as pd\n",
        "import re\n",
        "import string\n",
        "import torch\n",
        "import torch.nn as nn\n",
        "import torch.nn.functional as F\n",
        "import torch.optim as optim\n",
        "import torchtext\n",
        "import matplotlib.pyplot as plt\n",
        "from sklearn.model_selection import train_test_split\n",
        "from nltk.tokenize import TweetTokenizer\n",
        "from sklearn.metrics import accuracy_score\n",
        "from sklearn.metrics import precision_score\n",
        "from sklearn.metrics import recall_score\n",
        "from sklearn.metrics import f1_score\n",
        "from sklearn.metrics import confusion_matrix\n",
        "import random\n",
        "from seaborn import countplot\n",
        "from matplotlib import pyplot\n",
        "import seaborn as sns"
      ],
      "execution_count": null,
      "outputs": []
    },
    {
      "cell_type": "code",
      "metadata": {
        "id": "0f9_3XQ30Goq"
      },
      "source": [
        "# Device configuration\n",
        "device = torch.device('cuda' if torch.cuda.is_available() else 'cpu')"
      ],
      "execution_count": null,
      "outputs": []
    },
    {
      "cell_type": "markdown",
      "metadata": {
        "id": "6SaXeyBVwZDH"
      },
      "source": [
        "# Hyper parameter"
      ]
    },
    {
      "cell_type": "code",
      "metadata": {
        "id": "58g3k1eV1xRR"
      },
      "source": [
        "# Hyper-parameters\n",
        "input_size = 50\n",
        "hidden_size = 128\n",
        "num_layers = 3\n",
        "num_classes = 2\n",
        "batch_size = 100\n",
        "num_epochs = 30\n",
        "learning_rate = 0.001"
      ],
      "execution_count": null,
      "outputs": []
    },
    {
      "cell_type": "markdown",
      "metadata": {
        "id": "qtsiAeLAt2Sm"
      },
      "source": [
        "# Confusion Matrix"
      ]
    },
    {
      "cell_type": "code",
      "metadata": {
        "id": "7Tqi81ASt9c1"
      },
      "source": [
        "def plot_confusion_matrix(cm, classes):\n",
        "  plt.imshow(cm, interpolation='nearest', cmap=plt.cm.Blues)\n",
        "  plt.title('Confusion matrix')\n",
        "  plt.colorbar()\n",
        "  tick_marks = np.arange(len(classes))\n",
        "  plt.xticks(tick_marks, classes, rotation=45)\n",
        "  plt.yticks(tick_marks, classes)\n",
        "\n",
        "  thresh = cm.max() / 2.\n",
        "  for i in range (cm.shape[0]):\n",
        "    for j in range (cm.shape[1]):\n",
        "      plt.text(j, i, cm[i, j], horizontalalignment=\"center\", color=\"white\" if cm[i, j] > thresh else \"black\")\n",
        "      plt.tight_layout()\n",
        "      plt.ylabel('True label')\n",
        "      plt.xlabel('Predicted label')"
      ],
      "execution_count": null,
      "outputs": []
    },
    {
      "cell_type": "markdown",
      "metadata": {
        "id": "S92I9GsJdgZY"
      },
      "source": [
        "# Read Dataframe"
      ]
    },
    {
      "cell_type": "code",
      "metadata": {
        "id": "TDI2TPSUy8PC",
        "colab": {
          "base_uri": "https://localhost:8080/",
          "height": 514
        },
        "outputId": "0c8a63a2-89a6-44a6-b0bc-2d882c495d6c"
      },
      "source": [
        "df = pd.read_csv('/content/drive/MyDrive/Colab Notebooks/soft computing assignment 3/Dataset 1.csv', encoding = \"ISO-8859-1\")\n",
        "random.seed(42)\n",
        "df = df.sample(frac = 1)\n",
        "\n",
        "df.head(15)"
      ],
      "execution_count": null,
      "outputs": [
        {
          "output_type": "execute_result",
          "data": {
            "text/html": [
              "<div>\n",
              "<style scoped>\n",
              "    .dataframe tbody tr th:only-of-type {\n",
              "        vertical-align: middle;\n",
              "    }\n",
              "\n",
              "    .dataframe tbody tr th {\n",
              "        vertical-align: top;\n",
              "    }\n",
              "\n",
              "    .dataframe thead th {\n",
              "        text-align: right;\n",
              "    }\n",
              "</style>\n",
              "<table border=\"1\" class=\"dataframe\">\n",
              "  <thead>\n",
              "    <tr style=\"text-align: right;\">\n",
              "      <th></th>\n",
              "      <th>message</th>\n",
              "      <th>label</th>\n",
              "    </tr>\n",
              "  </thead>\n",
              "  <tbody>\n",
              "    <tr>\n",
              "      <th>9212</th>\n",
              "      <td>thanks  http://newsweek.comÃÂ  for helping br...</td>\n",
              "      <td>1</td>\n",
              "    </tr>\n",
              "    <tr>\n",
              "      <th>2166</th>\n",
              "      <td>Hello to all my new followers</td>\n",
              "      <td>0</td>\n",
              "    </tr>\n",
              "    <tr>\n",
              "      <th>2911</th>\n",
              "      <td>@rosiebunny  No trust me, it'll work for every...</td>\n",
              "      <td>0</td>\n",
              "    </tr>\n",
              "    <tr>\n",
              "      <th>7728</th>\n",
              "      <td>Graphs of your Etsy Shop Sales - coming soon t...</td>\n",
              "      <td>0</td>\n",
              "    </tr>\n",
              "    <tr>\n",
              "      <th>7820</th>\n",
              "      <td>@mydc no, it'll lay eggs in ur mom</td>\n",
              "      <td>0</td>\n",
              "    </tr>\n",
              "    <tr>\n",
              "      <th>9213</th>\n",
              "      <td>Gonna weight myself to fall into deeper depres...</td>\n",
              "      <td>1</td>\n",
              "    </tr>\n",
              "    <tr>\n",
              "      <th>769</th>\n",
              "      <td>@LeNuage it's nice to meet u, i'm from to Chil...</td>\n",
              "      <td>0</td>\n",
              "    </tr>\n",
              "    <tr>\n",
              "      <th>2435</th>\n",
              "      <td>Watching  http://bit.ly/16Mm0H about #google #...</td>\n",
              "      <td>0</td>\n",
              "    </tr>\n",
              "    <tr>\n",
              "      <th>8649</th>\n",
              "      <td>From Medium: Atlanta and the Unfolding of Pape...</td>\n",
              "      <td>1</td>\n",
              "    </tr>\n",
              "    <tr>\n",
              "      <th>8983</th>\n",
              "      <td>Spreading awareness about depression and shari...</td>\n",
              "      <td>1</td>\n",
              "    </tr>\n",
              "    <tr>\n",
              "      <th>9646</th>\n",
              "      <td>#NYCDCC- In recognition of Children's Mental H...</td>\n",
              "      <td>1</td>\n",
              "    </tr>\n",
              "    <tr>\n",
              "      <th>1916</th>\n",
              "      <td>@lululawless Yeah but paying rent and eating i...</td>\n",
              "      <td>0</td>\n",
              "    </tr>\n",
              "    <tr>\n",
              "      <th>863</th>\n",
              "      <td>@Fearnecotton we're listening to your show whi...</td>\n",
              "      <td>0</td>\n",
              "    </tr>\n",
              "    <tr>\n",
              "      <th>8472</th>\n",
              "      <td>Bayern missing chances = Real winningReal winn...</td>\n",
              "      <td>1</td>\n",
              "    </tr>\n",
              "    <tr>\n",
              "      <th>1503</th>\n",
              "      <td>@lizjohnsonbooks hey!  I have emailed you and ...</td>\n",
              "      <td>0</td>\n",
              "    </tr>\n",
              "  </tbody>\n",
              "</table>\n",
              "</div>"
            ],
            "text/plain": [
              "                                                message  label\n",
              "9212  thanks  http://newsweek.comÃÂ  for helping br...      1\n",
              "2166                     Hello to all my new followers       0\n",
              "2911  @rosiebunny  No trust me, it'll work for every...      0\n",
              "7728  Graphs of your Etsy Shop Sales - coming soon t...      0\n",
              "7820                @mydc no, it'll lay eggs in ur mom       0\n",
              "9213  Gonna weight myself to fall into deeper depres...      1\n",
              "769   @LeNuage it's nice to meet u, i'm from to Chil...      0\n",
              "2435  Watching  http://bit.ly/16Mm0H about #google #...      0\n",
              "8649  From Medium: Atlanta and the Unfolding of Pape...      1\n",
              "8983  Spreading awareness about depression and shari...      1\n",
              "9646  #NYCDCC- In recognition of Children's Mental H...      1\n",
              "1916  @lululawless Yeah but paying rent and eating i...      0\n",
              "863   @Fearnecotton we're listening to your show whi...      0\n",
              "8472  Bayern missing chances = Real winningReal winn...      1\n",
              "1503  @lizjohnsonbooks hey!  I have emailed you and ...      0"
            ]
          },
          "metadata": {},
          "execution_count": 6
        }
      ]
    },
    {
      "cell_type": "markdown",
      "metadata": {
        "id": "hk9s2g5My5Mo"
      },
      "source": [
        "# Data Visualisation"
      ]
    },
    {
      "cell_type": "code",
      "metadata": {
        "colab": {
          "base_uri": "https://localhost:8080/",
          "height": 313
        },
        "id": "_NOUSpth1NxX",
        "outputId": "87eda687-4d0c-4355-b267-5da8df31afca"
      },
      "source": [
        "label_count = df.label.value_counts()\n",
        "label_0 = label_count[0]\n",
        "label_1 = label_count[1]\n",
        "print('0 = ',label_0, '\\n1 = ', label_1)\n",
        "\n",
        "\n",
        "grph = pd.DataFrame({'labels':['0', '1'], 'values':label_count})\n",
        "ax = grph.plot.bar(x='labels', y='values', rot=0)"
      ],
      "execution_count": null,
      "outputs": [
        {
          "output_type": "stream",
          "name": "stdout",
          "text": [
            "0 =  8000 \n",
            "1 =  2314\n"
          ]
        },
        {
          "output_type": "display_data",
          "data": {
            "image/png": "[encoded data removed]",
            "text/plain": [
              "<Figure size 432x288 with 1 Axes>"
            ]
          },
          "metadata": {
            "needs_background": "light"
          }
        }
      ]
    },
    {
      "cell_type": "markdown",
      "metadata": {
        "id": "Zq-oEFNCHoiJ"
      },
      "source": [
        "# Data Preprocessing"
      ]
    },
    {
      "cell_type": "markdown",
      "metadata": {
        "id": "_fu942JOIOX6"
      },
      "source": [
        "## Converting Lowercase"
      ]
    },
    {
      "cell_type": "code",
      "metadata": {
        "colab": {
          "base_uri": "https://localhost:8080/",
          "height": 419
        },
        "id": "N1iYs2c6BmH6",
        "outputId": "6695bd30-1a3f-4a9e-d2bb-0539d2e51017"
      },
      "source": [
        "#CONVERTING TO LOWERCASE\n",
        "df['message'] = df['message'].str.lower()\n",
        "df"
      ],
      "execution_count": null,
      "outputs": [
        {
          "output_type": "execute_result",
          "data": {
            "text/html": [
              "<div>\n",
              "<style scoped>\n",
              "    .dataframe tbody tr th:only-of-type {\n",
              "        vertical-align: middle;\n",
              "    }\n",
              "\n",
              "    .dataframe tbody tr th {\n",
              "        vertical-align: top;\n",
              "    }\n",
              "\n",
              "    .dataframe thead th {\n",
              "        text-align: right;\n",
              "    }\n",
              "</style>\n",
              "<table border=\"1\" class=\"dataframe\">\n",
              "  <thead>\n",
              "    <tr style=\"text-align: right;\">\n",
              "      <th></th>\n",
              "      <th>message</th>\n",
              "      <th>label</th>\n",
              "    </tr>\n",
              "  </thead>\n",
              "  <tbody>\n",
              "    <tr>\n",
              "      <th>9212</th>\n",
              "      <td>thanks  http://newsweek.comãâ  for helping br...</td>\n",
              "      <td>1</td>\n",
              "    </tr>\n",
              "    <tr>\n",
              "      <th>2166</th>\n",
              "      <td>hello to all my new followers</td>\n",
              "      <td>0</td>\n",
              "    </tr>\n",
              "    <tr>\n",
              "      <th>2911</th>\n",
              "      <td>@rosiebunny  no trust me, it'll work for every...</td>\n",
              "      <td>0</td>\n",
              "    </tr>\n",
              "    <tr>\n",
              "      <th>7728</th>\n",
              "      <td>graphs of your etsy shop sales - coming soon t...</td>\n",
              "      <td>0</td>\n",
              "    </tr>\n",
              "    <tr>\n",
              "      <th>7820</th>\n",
              "      <td>@mydc no, it'll lay eggs in ur mom</td>\n",
              "      <td>0</td>\n",
              "    </tr>\n",
              "    <tr>\n",
              "      <th>...</th>\n",
              "      <td>...</td>\n",
              "      <td>...</td>\n",
              "    </tr>\n",
              "    <tr>\n",
              "      <th>2249</th>\n",
              "      <td>@ednarheiner ill be happy to tweet with ya as ...</td>\n",
              "      <td>0</td>\n",
              "    </tr>\n",
              "    <tr>\n",
              "      <th>2456</th>\n",
              "      <td>student assignment reviews - done! phew... now...</td>\n",
              "      <td>0</td>\n",
              "    </tr>\n",
              "    <tr>\n",
              "      <th>10211</th>\n",
              "      <td>deepika padukone raises a toast to those who s...</td>\n",
              "      <td>1</td>\n",
              "    </tr>\n",
              "    <tr>\n",
              "      <th>127</th>\n",
              "      <td>happy gilmore is on</td>\n",
              "      <td>0</td>\n",
              "    </tr>\n",
              "    <tr>\n",
              "      <th>1465</th>\n",
              "      <td>@ashleyrose319 1998 called. they want their be...</td>\n",
              "      <td>0</td>\n",
              "    </tr>\n",
              "  </tbody>\n",
              "</table>\n",
              "<p>10314 rows × 2 columns</p>\n",
              "</div>"
            ],
            "text/plain": [
              "                                                 message  label\n",
              "9212   thanks  http://newsweek.comãâ  for helping br...      1\n",
              "2166                      hello to all my new followers       0\n",
              "2911   @rosiebunny  no trust me, it'll work for every...      0\n",
              "7728   graphs of your etsy shop sales - coming soon t...      0\n",
              "7820                 @mydc no, it'll lay eggs in ur mom       0\n",
              "...                                                  ...    ...\n",
              "2249   @ednarheiner ill be happy to tweet with ya as ...      0\n",
              "2456   student assignment reviews - done! phew... now...      0\n",
              "10211  deepika padukone raises a toast to those who s...      1\n",
              "127                                 happy gilmore is on       0\n",
              "1465   @ashleyrose319 1998 called. they want their be...      0\n",
              "\n",
              "[10314 rows x 2 columns]"
            ]
          },
          "metadata": {},
          "execution_count": 8
        }
      ]
    },
    {
      "cell_type": "markdown",
      "metadata": {
        "id": "3RoMxke1Htqy"
      },
      "source": [
        "## Stopword Remove"
      ]
    },
    {
      "cell_type": "code",
      "metadata": {
        "colab": {
          "base_uri": "https://localhost:8080/",
          "height": 453
        },
        "id": "kh7DHpD0DPbr",
        "outputId": "4a84ca1f-62d2-461b-f93a-f2a8fc263f13"
      },
      "source": [
        "#REMOVING THE STOP WORDS\n",
        "import nltk\n",
        "from nltk.corpus import stopwords\n",
        "nltk.download('stopwords')\n",
        "stop = stopwords.words('english')\n",
        "df['message'] = df['message'].apply(lambda x: ' '.join([word for word in x.split() if word not in (stop)]))\n",
        "df"
      ],
      "execution_count": null,
      "outputs": [
        {
          "output_type": "stream",
          "name": "stdout",
          "text": [
            "[nltk_data] Downloading package stopwords to /root/nltk_data...\n",
            "[nltk_data]   Unzipping corpora/stopwords.zip.\n"
          ]
        },
        {
          "output_type": "execute_result",
          "data": {
            "text/html": [
              "<div>\n",
              "<style scoped>\n",
              "    .dataframe tbody tr th:only-of-type {\n",
              "        vertical-align: middle;\n",
              "    }\n",
              "\n",
              "    .dataframe tbody tr th {\n",
              "        vertical-align: top;\n",
              "    }\n",
              "\n",
              "    .dataframe thead th {\n",
              "        text-align: right;\n",
              "    }\n",
              "</style>\n",
              "<table border=\"1\" class=\"dataframe\">\n",
              "  <thead>\n",
              "    <tr style=\"text-align: right;\">\n",
              "      <th></th>\n",
              "      <th>message</th>\n",
              "      <th>label</th>\n",
              "    </tr>\n",
              "  </thead>\n",
              "  <tbody>\n",
              "    <tr>\n",
              "      <th>9212</th>\n",
              "      <td>thanks http://newsweek.comãâ helping bring li...</td>\n",
              "      <td>1</td>\n",
              "    </tr>\n",
              "    <tr>\n",
              "      <th>2166</th>\n",
              "      <td>hello new followers</td>\n",
              "      <td>0</td>\n",
              "    </tr>\n",
              "    <tr>\n",
              "      <th>2911</th>\n",
              "      <td>@rosiebunny trust me, it'll work everyone else...</td>\n",
              "      <td>0</td>\n",
              "    </tr>\n",
              "    <tr>\n",
              "      <th>7728</th>\n",
              "      <td>graphs etsy shop sales - coming soon yaami.com...</td>\n",
              "      <td>0</td>\n",
              "    </tr>\n",
              "    <tr>\n",
              "      <th>7820</th>\n",
              "      <td>@mydc no, it'll lay eggs ur mom</td>\n",
              "      <td>0</td>\n",
              "    </tr>\n",
              "    <tr>\n",
              "      <th>...</th>\n",
              "      <td>...</td>\n",
              "      <td>...</td>\n",
              "    </tr>\n",
              "    <tr>\n",
              "      <th>2249</th>\n",
              "      <td>@ednarheiner ill happy tweet ya well &amp;quot;twe...</td>\n",
              "      <td>0</td>\n",
              "    </tr>\n",
              "    <tr>\n",
              "      <th>2456</th>\n",
              "      <td>student assignment reviews - done! phew... ont...</td>\n",
              "      <td>0</td>\n",
              "    </tr>\n",
              "    <tr>\n",
              "      <th>10211</th>\n",
              "      <td>deepika padukone raises toast survived depress...</td>\n",
              "      <td>1</td>\n",
              "    </tr>\n",
              "    <tr>\n",
              "      <th>127</th>\n",
              "      <td>happy gilmore</td>\n",
              "      <td>0</td>\n",
              "    </tr>\n",
              "    <tr>\n",
              "      <th>1465</th>\n",
              "      <td>@ashleyrose319 1998 called. want belly rings back</td>\n",
              "      <td>0</td>\n",
              "    </tr>\n",
              "  </tbody>\n",
              "</table>\n",
              "<p>10314 rows × 2 columns</p>\n",
              "</div>"
            ],
            "text/plain": [
              "                                                 message  label\n",
              "9212   thanks http://newsweek.comãâ helping bring li...      1\n",
              "2166                                 hello new followers      0\n",
              "2911   @rosiebunny trust me, it'll work everyone else...      0\n",
              "7728   graphs etsy shop sales - coming soon yaami.com...      0\n",
              "7820                     @mydc no, it'll lay eggs ur mom      0\n",
              "...                                                  ...    ...\n",
              "2249   @ednarheiner ill happy tweet ya well &quot;twe...      0\n",
              "2456   student assignment reviews - done! phew... ont...      0\n",
              "10211  deepika padukone raises toast survived depress...      1\n",
              "127                                        happy gilmore      0\n",
              "1465   @ashleyrose319 1998 called. want belly rings back      0\n",
              "\n",
              "[10314 rows x 2 columns]"
            ]
          },
          "metadata": {},
          "execution_count": 9
        }
      ]
    },
    {
      "cell_type": "markdown",
      "metadata": {
        "id": "be20_c64H5Ih"
      },
      "source": [
        "## Mention Remove"
      ]
    },
    {
      "cell_type": "code",
      "metadata": {
        "colab": {
          "base_uri": "https://localhost:8080/",
          "height": 419
        },
        "id": "UyWhoHD0D88S",
        "outputId": "1318c22b-32d3-4d21-c46b-ad749e6c5d9c"
      },
      "source": [
        "def remove_Mention(s):\n",
        "    s = re.sub(r'@[\\S]+', ' ', s)\n",
        "    return s\n",
        "df['message'] = df['message'].apply(lambda text: remove_Mention(text))\n",
        "df"
      ],
      "execution_count": null,
      "outputs": [
        {
          "output_type": "execute_result",
          "data": {
            "text/html": [
              "<div>\n",
              "<style scoped>\n",
              "    .dataframe tbody tr th:only-of-type {\n",
              "        vertical-align: middle;\n",
              "    }\n",
              "\n",
              "    .dataframe tbody tr th {\n",
              "        vertical-align: top;\n",
              "    }\n",
              "\n",
              "    .dataframe thead th {\n",
              "        text-align: right;\n",
              "    }\n",
              "</style>\n",
              "<table border=\"1\" class=\"dataframe\">\n",
              "  <thead>\n",
              "    <tr style=\"text-align: right;\">\n",
              "      <th></th>\n",
              "      <th>message</th>\n",
              "      <th>label</th>\n",
              "    </tr>\n",
              "  </thead>\n",
              "  <tbody>\n",
              "    <tr>\n",
              "      <th>9212</th>\n",
              "      <td>thanks http://newsweek.comãâ helping bring li...</td>\n",
              "      <td>1</td>\n",
              "    </tr>\n",
              "    <tr>\n",
              "      <th>2166</th>\n",
              "      <td>hello new followers</td>\n",
              "      <td>0</td>\n",
              "    </tr>\n",
              "    <tr>\n",
              "      <th>2911</th>\n",
              "      <td>trust me, it'll work everyone else...just me..</td>\n",
              "      <td>0</td>\n",
              "    </tr>\n",
              "    <tr>\n",
              "      <th>7728</th>\n",
              "      <td>graphs etsy shop sales - coming soon yaami.com...</td>\n",
              "      <td>0</td>\n",
              "    </tr>\n",
              "    <tr>\n",
              "      <th>7820</th>\n",
              "      <td>no, it'll lay eggs ur mom</td>\n",
              "      <td>0</td>\n",
              "    </tr>\n",
              "    <tr>\n",
              "      <th>...</th>\n",
              "      <td>...</td>\n",
              "      <td>...</td>\n",
              "    </tr>\n",
              "    <tr>\n",
              "      <th>2249</th>\n",
              "      <td>ill happy tweet ya well &amp;quot;tweet tweet&amp;qu...</td>\n",
              "      <td>0</td>\n",
              "    </tr>\n",
              "    <tr>\n",
              "      <th>2456</th>\n",
              "      <td>student assignment reviews - done! phew... ont...</td>\n",
              "      <td>0</td>\n",
              "    </tr>\n",
              "    <tr>\n",
              "      <th>10211</th>\n",
              "      <td>deepika padukone raises toast survived depress...</td>\n",
              "      <td>1</td>\n",
              "    </tr>\n",
              "    <tr>\n",
              "      <th>127</th>\n",
              "      <td>happy gilmore</td>\n",
              "      <td>0</td>\n",
              "    </tr>\n",
              "    <tr>\n",
              "      <th>1465</th>\n",
              "      <td>1998 called. want belly rings back</td>\n",
              "      <td>0</td>\n",
              "    </tr>\n",
              "  </tbody>\n",
              "</table>\n",
              "<p>10314 rows × 2 columns</p>\n",
              "</div>"
            ],
            "text/plain": [
              "                                                 message  label\n",
              "9212   thanks http://newsweek.comãâ helping bring li...      1\n",
              "2166                                 hello new followers      0\n",
              "2911      trust me, it'll work everyone else...just me..      0\n",
              "7728   graphs etsy shop sales - coming soon yaami.com...      0\n",
              "7820                           no, it'll lay eggs ur mom      0\n",
              "...                                                  ...    ...\n",
              "2249     ill happy tweet ya well &quot;tweet tweet&qu...      0\n",
              "2456   student assignment reviews - done! phew... ont...      0\n",
              "10211  deepika padukone raises toast survived depress...      1\n",
              "127                                        happy gilmore      0\n",
              "1465                  1998 called. want belly rings back      0\n",
              "\n",
              "[10314 rows x 2 columns]"
            ]
          },
          "metadata": {},
          "execution_count": 10
        }
      ]
    },
    {
      "cell_type": "markdown",
      "metadata": {
        "id": "0hPmLkaoHyyg"
      },
      "source": [
        "## URL Remove"
      ]
    },
    {
      "cell_type": "code",
      "metadata": {
        "colab": {
          "base_uri": "https://localhost:8080/",
          "height": 419
        },
        "id": "XFJeQtVEBXAK",
        "outputId": "e7e87687-1538-41cd-b973-5cd9c2837e72"
      },
      "source": [
        "#REMOVING URL\n",
        "def remove_URL(text):\n",
        "    url_pattern = re.compile(r'https?://\\S+|www\\.\\S+')\n",
        "    return url_pattern.sub(r'', text)\n",
        "df['message'] = df['message'].apply(lambda text: remove_URL(text))\n",
        "df"
      ],
      "execution_count": null,
      "outputs": [
        {
          "output_type": "execute_result",
          "data": {
            "text/html": [
              "<div>\n",
              "<style scoped>\n",
              "    .dataframe tbody tr th:only-of-type {\n",
              "        vertical-align: middle;\n",
              "    }\n",
              "\n",
              "    .dataframe tbody tr th {\n",
              "        vertical-align: top;\n",
              "    }\n",
              "\n",
              "    .dataframe thead th {\n",
              "        text-align: right;\n",
              "    }\n",
              "</style>\n",
              "<table border=\"1\" class=\"dataframe\">\n",
              "  <thead>\n",
              "    <tr style=\"text-align: right;\">\n",
              "      <th></th>\n",
              "      <th>message</th>\n",
              "      <th>label</th>\n",
              "    </tr>\n",
              "  </thead>\n",
              "  <tbody>\n",
              "    <tr>\n",
              "      <th>9212</th>\n",
              "      <td>thanks  helping bring light huge problem. chil...</td>\n",
              "      <td>1</td>\n",
              "    </tr>\n",
              "    <tr>\n",
              "      <th>2166</th>\n",
              "      <td>hello new followers</td>\n",
              "      <td>0</td>\n",
              "    </tr>\n",
              "    <tr>\n",
              "      <th>2911</th>\n",
              "      <td>trust me, it'll work everyone else...just me..</td>\n",
              "      <td>0</td>\n",
              "    </tr>\n",
              "    <tr>\n",
              "      <th>7728</th>\n",
              "      <td>graphs etsy shop sales - coming soon yaami.com...</td>\n",
              "      <td>0</td>\n",
              "    </tr>\n",
              "    <tr>\n",
              "      <th>7820</th>\n",
              "      <td>no, it'll lay eggs ur mom</td>\n",
              "      <td>0</td>\n",
              "    </tr>\n",
              "    <tr>\n",
              "      <th>...</th>\n",
              "      <td>...</td>\n",
              "      <td>...</td>\n",
              "    </tr>\n",
              "    <tr>\n",
              "      <th>2249</th>\n",
              "      <td>ill happy tweet ya well &amp;quot;tweet tweet&amp;qu...</td>\n",
              "      <td>0</td>\n",
              "    </tr>\n",
              "    <tr>\n",
              "      <th>2456</th>\n",
              "      <td>student assignment reviews - done! phew... ont...</td>\n",
              "      <td>0</td>\n",
              "    </tr>\n",
              "    <tr>\n",
              "      <th>10211</th>\n",
              "      <td>deepika padukone raises toast survived depress...</td>\n",
              "      <td>1</td>\n",
              "    </tr>\n",
              "    <tr>\n",
              "      <th>127</th>\n",
              "      <td>happy gilmore</td>\n",
              "      <td>0</td>\n",
              "    </tr>\n",
              "    <tr>\n",
              "      <th>1465</th>\n",
              "      <td>1998 called. want belly rings back</td>\n",
              "      <td>0</td>\n",
              "    </tr>\n",
              "  </tbody>\n",
              "</table>\n",
              "<p>10314 rows × 2 columns</p>\n",
              "</div>"
            ],
            "text/plain": [
              "                                                 message  label\n",
              "9212   thanks  helping bring light huge problem. chil...      1\n",
              "2166                                 hello new followers      0\n",
              "2911      trust me, it'll work everyone else...just me..      0\n",
              "7728   graphs etsy shop sales - coming soon yaami.com...      0\n",
              "7820                           no, it'll lay eggs ur mom      0\n",
              "...                                                  ...    ...\n",
              "2249     ill happy tweet ya well &quot;tweet tweet&qu...      0\n",
              "2456   student assignment reviews - done! phew... ont...      0\n",
              "10211  deepika padukone raises toast survived depress...      1\n",
              "127                                        happy gilmore      0\n",
              "1465                  1998 called. want belly rings back      0\n",
              "\n",
              "[10314 rows x 2 columns]"
            ]
          },
          "metadata": {},
          "execution_count": 11
        }
      ]
    },
    {
      "cell_type": "markdown",
      "metadata": {
        "id": "MI0sujIdIB-w"
      },
      "source": [
        "## Number Remove"
      ]
    },
    {
      "cell_type": "code",
      "metadata": {
        "colab": {
          "base_uri": "https://localhost:8080/",
          "height": 419
        },
        "id": "2agpMCRvEJux",
        "outputId": "c0fb54c6-9d51-478f-cf72-c6642e6a525a"
      },
      "source": [
        "def remove_Number(s):\n",
        "    s = ''.join(c for c in s if not c.isdigit())\n",
        "    return s\n",
        "df['message'] = df['message'].apply(lambda text: remove_Number(text))\n",
        "df"
      ],
      "execution_count": null,
      "outputs": [
        {
          "output_type": "execute_result",
          "data": {
            "text/html": [
              "<div>\n",
              "<style scoped>\n",
              "    .dataframe tbody tr th:only-of-type {\n",
              "        vertical-align: middle;\n",
              "    }\n",
              "\n",
              "    .dataframe tbody tr th {\n",
              "        vertical-align: top;\n",
              "    }\n",
              "\n",
              "    .dataframe thead th {\n",
              "        text-align: right;\n",
              "    }\n",
              "</style>\n",
              "<table border=\"1\" class=\"dataframe\">\n",
              "  <thead>\n",
              "    <tr style=\"text-align: right;\">\n",
              "      <th></th>\n",
              "      <th>message</th>\n",
              "      <th>label</th>\n",
              "    </tr>\n",
              "  </thead>\n",
              "  <tbody>\n",
              "    <tr>\n",
              "      <th>9212</th>\n",
              "      <td>thanks  helping bring light huge problem. chil...</td>\n",
              "      <td>1</td>\n",
              "    </tr>\n",
              "    <tr>\n",
              "      <th>2166</th>\n",
              "      <td>hello new followers</td>\n",
              "      <td>0</td>\n",
              "    </tr>\n",
              "    <tr>\n",
              "      <th>2911</th>\n",
              "      <td>trust me, it'll work everyone else...just me..</td>\n",
              "      <td>0</td>\n",
              "    </tr>\n",
              "    <tr>\n",
              "      <th>7728</th>\n",
              "      <td>graphs etsy shop sales - coming soon yaami.com...</td>\n",
              "      <td>0</td>\n",
              "    </tr>\n",
              "    <tr>\n",
              "      <th>7820</th>\n",
              "      <td>no, it'll lay eggs ur mom</td>\n",
              "      <td>0</td>\n",
              "    </tr>\n",
              "    <tr>\n",
              "      <th>...</th>\n",
              "      <td>...</td>\n",
              "      <td>...</td>\n",
              "    </tr>\n",
              "    <tr>\n",
              "      <th>2249</th>\n",
              "      <td>ill happy tweet ya well &amp;quot;tweet tweet&amp;qu...</td>\n",
              "      <td>0</td>\n",
              "    </tr>\n",
              "    <tr>\n",
              "      <th>2456</th>\n",
              "      <td>student assignment reviews - done! phew... ont...</td>\n",
              "      <td>0</td>\n",
              "    </tr>\n",
              "    <tr>\n",
              "      <th>10211</th>\n",
              "      <td>deepika padukone raises toast survived depress...</td>\n",
              "      <td>1</td>\n",
              "    </tr>\n",
              "    <tr>\n",
              "      <th>127</th>\n",
              "      <td>happy gilmore</td>\n",
              "      <td>0</td>\n",
              "    </tr>\n",
              "    <tr>\n",
              "      <th>1465</th>\n",
              "      <td>called. want belly rings back</td>\n",
              "      <td>0</td>\n",
              "    </tr>\n",
              "  </tbody>\n",
              "</table>\n",
              "<p>10314 rows × 2 columns</p>\n",
              "</div>"
            ],
            "text/plain": [
              "                                                 message  label\n",
              "9212   thanks  helping bring light huge problem. chil...      1\n",
              "2166                                 hello new followers      0\n",
              "2911      trust me, it'll work everyone else...just me..      0\n",
              "7728   graphs etsy shop sales - coming soon yaami.com...      0\n",
              "7820                           no, it'll lay eggs ur mom      0\n",
              "...                                                  ...    ...\n",
              "2249     ill happy tweet ya well &quot;tweet tweet&qu...      0\n",
              "2456   student assignment reviews - done! phew... ont...      0\n",
              "10211  deepika padukone raises toast survived depress...      1\n",
              "127                                        happy gilmore      0\n",
              "1465                       called. want belly rings back      0\n",
              "\n",
              "[10314 rows x 2 columns]"
            ]
          },
          "metadata": {},
          "execution_count": 12
        }
      ]
    },
    {
      "cell_type": "markdown",
      "metadata": {
        "id": "3PAWxy1Mp1A7"
      },
      "source": [
        "## Hashtag Remove"
      ]
    },
    {
      "cell_type": "code",
      "metadata": {
        "colab": {
          "base_uri": "https://localhost:8080/",
          "height": 419
        },
        "id": "8nQfPaQQp7vi",
        "outputId": "415af61d-99f2-4bf4-ccc9-0f8adf6b29d1"
      },
      "source": [
        "def rmove_Hastag(s):\n",
        "    s = re.sub(\"#[A-Za-z0-9_]+\",\"\", s)\n",
        "    return s\n",
        "df['message'] = df['message'].apply(lambda text: rmove_Hastag(text))\n",
        "df"
      ],
      "execution_count": null,
      "outputs": [
        {
          "output_type": "execute_result",
          "data": {
            "text/html": [
              "<div>\n",
              "<style scoped>\n",
              "    .dataframe tbody tr th:only-of-type {\n",
              "        vertical-align: middle;\n",
              "    }\n",
              "\n",
              "    .dataframe tbody tr th {\n",
              "        vertical-align: top;\n",
              "    }\n",
              "\n",
              "    .dataframe thead th {\n",
              "        text-align: right;\n",
              "    }\n",
              "</style>\n",
              "<table border=\"1\" class=\"dataframe\">\n",
              "  <thead>\n",
              "    <tr style=\"text-align: right;\">\n",
              "      <th></th>\n",
              "      <th>message</th>\n",
              "      <th>label</th>\n",
              "    </tr>\n",
              "  </thead>\n",
              "  <tbody>\n",
              "    <tr>\n",
              "      <th>9212</th>\n",
              "      <td>thanks  helping bring light huge problem. chil...</td>\n",
              "      <td>1</td>\n",
              "    </tr>\n",
              "    <tr>\n",
              "      <th>2166</th>\n",
              "      <td>hello new followers</td>\n",
              "      <td>0</td>\n",
              "    </tr>\n",
              "    <tr>\n",
              "      <th>2911</th>\n",
              "      <td>trust me, it'll work everyone else...just me..</td>\n",
              "      <td>0</td>\n",
              "    </tr>\n",
              "    <tr>\n",
              "      <th>7728</th>\n",
              "      <td>graphs etsy shop sales - coming soon yaami.com...</td>\n",
              "      <td>0</td>\n",
              "    </tr>\n",
              "    <tr>\n",
              "      <th>7820</th>\n",
              "      <td>no, it'll lay eggs ur mom</td>\n",
              "      <td>0</td>\n",
              "    </tr>\n",
              "    <tr>\n",
              "      <th>...</th>\n",
              "      <td>...</td>\n",
              "      <td>...</td>\n",
              "    </tr>\n",
              "    <tr>\n",
              "      <th>2249</th>\n",
              "      <td>ill happy tweet ya well &amp;quot;tweet tweet&amp;qu...</td>\n",
              "      <td>0</td>\n",
              "    </tr>\n",
              "    <tr>\n",
              "      <th>2456</th>\n",
              "      <td>student assignment reviews - done! phew... ont...</td>\n",
              "      <td>0</td>\n",
              "    </tr>\n",
              "    <tr>\n",
              "      <th>10211</th>\n",
              "      <td>deepika padukone raises toast survived depress...</td>\n",
              "      <td>1</td>\n",
              "    </tr>\n",
              "    <tr>\n",
              "      <th>127</th>\n",
              "      <td>happy gilmore</td>\n",
              "      <td>0</td>\n",
              "    </tr>\n",
              "    <tr>\n",
              "      <th>1465</th>\n",
              "      <td>called. want belly rings back</td>\n",
              "      <td>0</td>\n",
              "    </tr>\n",
              "  </tbody>\n",
              "</table>\n",
              "<p>10314 rows × 2 columns</p>\n",
              "</div>"
            ],
            "text/plain": [
              "                                                 message  label\n",
              "9212   thanks  helping bring light huge problem. chil...      1\n",
              "2166                                 hello new followers      0\n",
              "2911      trust me, it'll work everyone else...just me..      0\n",
              "7728   graphs etsy shop sales - coming soon yaami.com...      0\n",
              "7820                           no, it'll lay eggs ur mom      0\n",
              "...                                                  ...    ...\n",
              "2249     ill happy tweet ya well &quot;tweet tweet&qu...      0\n",
              "2456   student assignment reviews - done! phew... ont...      0\n",
              "10211  deepika padukone raises toast survived depress...      1\n",
              "127                                        happy gilmore      0\n",
              "1465                       called. want belly rings back      0\n",
              "\n",
              "[10314 rows x 2 columns]"
            ]
          },
          "metadata": {},
          "execution_count": 13
        }
      ]
    },
    {
      "cell_type": "markdown",
      "metadata": {
        "id": "esvTJ_a8IJUp"
      },
      "source": [
        "## Punctuation Remove"
      ]
    },
    {
      "cell_type": "code",
      "metadata": {
        "colab": {
          "base_uri": "https://localhost:8080/",
          "height": 419
        },
        "id": "MmUgYQWqBLOU",
        "outputId": "92d8d18d-5822-4556-88a3-04ebae3e9b74"
      },
      "source": [
        "#REMOVING PUNCTUATIONS\n",
        "def remove_punctuations(text):\n",
        "    for punctuation in string.punctuation:\n",
        "        text = text.replace(punctuation, '') \n",
        "    return text\n",
        "df['message'] = df['message'].apply(remove_punctuations)\n",
        "df"
      ],
      "execution_count": null,
      "outputs": [
        {
          "output_type": "execute_result",
          "data": {
            "text/html": [
              "<div>\n",
              "<style scoped>\n",
              "    .dataframe tbody tr th:only-of-type {\n",
              "        vertical-align: middle;\n",
              "    }\n",
              "\n",
              "    .dataframe tbody tr th {\n",
              "        vertical-align: top;\n",
              "    }\n",
              "\n",
              "    .dataframe thead th {\n",
              "        text-align: right;\n",
              "    }\n",
              "</style>\n",
              "<table border=\"1\" class=\"dataframe\">\n",
              "  <thead>\n",
              "    <tr style=\"text-align: right;\">\n",
              "      <th></th>\n",
              "      <th>message</th>\n",
              "      <th>label</th>\n",
              "    </tr>\n",
              "  </thead>\n",
              "  <tbody>\n",
              "    <tr>\n",
              "      <th>9212</th>\n",
              "      <td>thanks  helping bring light huge problem child...</td>\n",
              "      <td>1</td>\n",
              "    </tr>\n",
              "    <tr>\n",
              "      <th>2166</th>\n",
              "      <td>hello new followers</td>\n",
              "      <td>0</td>\n",
              "    </tr>\n",
              "    <tr>\n",
              "      <th>2911</th>\n",
              "      <td>trust me itll work everyone elsejust me</td>\n",
              "      <td>0</td>\n",
              "    </tr>\n",
              "    <tr>\n",
              "      <th>7728</th>\n",
              "      <td>graphs etsy shop sales  coming soon yaamicom d...</td>\n",
              "      <td>0</td>\n",
              "    </tr>\n",
              "    <tr>\n",
              "      <th>7820</th>\n",
              "      <td>no itll lay eggs ur mom</td>\n",
              "      <td>0</td>\n",
              "    </tr>\n",
              "    <tr>\n",
              "      <th>...</th>\n",
              "      <td>...</td>\n",
              "      <td>...</td>\n",
              "    </tr>\n",
              "    <tr>\n",
              "      <th>2249</th>\n",
              "      <td>ill happy tweet ya well quottweet tweetquot lol</td>\n",
              "      <td>0</td>\n",
              "    </tr>\n",
              "    <tr>\n",
              "      <th>2456</th>\n",
              "      <td>student assignment reviews  done phew onto con...</td>\n",
              "      <td>0</td>\n",
              "    </tr>\n",
              "    <tr>\n",
              "      <th>10211</th>\n",
              "      <td>deepika padukone raises toast survived depress...</td>\n",
              "      <td>1</td>\n",
              "    </tr>\n",
              "    <tr>\n",
              "      <th>127</th>\n",
              "      <td>happy gilmore</td>\n",
              "      <td>0</td>\n",
              "    </tr>\n",
              "    <tr>\n",
              "      <th>1465</th>\n",
              "      <td>called want belly rings back</td>\n",
              "      <td>0</td>\n",
              "    </tr>\n",
              "  </tbody>\n",
              "</table>\n",
              "<p>10314 rows × 2 columns</p>\n",
              "</div>"
            ],
            "text/plain": [
              "                                                 message  label\n",
              "9212   thanks  helping bring light huge problem child...      1\n",
              "2166                                 hello new followers      0\n",
              "2911             trust me itll work everyone elsejust me      0\n",
              "7728   graphs etsy shop sales  coming soon yaamicom d...      0\n",
              "7820                             no itll lay eggs ur mom      0\n",
              "...                                                  ...    ...\n",
              "2249     ill happy tweet ya well quottweet tweetquot lol      0\n",
              "2456   student assignment reviews  done phew onto con...      0\n",
              "10211  deepika padukone raises toast survived depress...      1\n",
              "127                                        happy gilmore      0\n",
              "1465                        called want belly rings back      0\n",
              "\n",
              "[10314 rows x 2 columns]"
            ]
          },
          "metadata": {},
          "execution_count": 14
        }
      ]
    },
    {
      "cell_type": "markdown",
      "metadata": {
        "id": "owLllyJLIU7h"
      },
      "source": [
        "## Stemming"
      ]
    },
    {
      "cell_type": "code",
      "metadata": {
        "colab": {
          "base_uri": "https://localhost:8080/",
          "height": 419
        },
        "id": "UgC3V7bkCHq8",
        "outputId": "d1446571-e2bb-446d-c3b2-b29061230815"
      },
      "source": [
        "#STEMMING\n",
        "from nltk.stem.porter import PorterStemmer \n",
        "\n",
        "stemmer = PorterStemmer()\n",
        "def stem_words(text):\n",
        "    return \" \".join([stemmer.stem(word) for word in text.split()])\n",
        "\n",
        "df['message'] = df['message'].apply(lambda text: stem_words(text))\n",
        "df"
      ],
      "execution_count": null,
      "outputs": [
        {
          "output_type": "execute_result",
          "data": {
            "text/html": [
              "<div>\n",
              "<style scoped>\n",
              "    .dataframe tbody tr th:only-of-type {\n",
              "        vertical-align: middle;\n",
              "    }\n",
              "\n",
              "    .dataframe tbody tr th {\n",
              "        vertical-align: top;\n",
              "    }\n",
              "\n",
              "    .dataframe thead th {\n",
              "        text-align: right;\n",
              "    }\n",
              "</style>\n",
              "<table border=\"1\" class=\"dataframe\">\n",
              "  <thead>\n",
              "    <tr style=\"text-align: right;\">\n",
              "      <th></th>\n",
              "      <th>message</th>\n",
              "      <th>label</th>\n",
              "    </tr>\n",
              "  </thead>\n",
              "  <tbody>\n",
              "    <tr>\n",
              "      <th>9212</th>\n",
              "      <td>thank help bring light huge problem childhood ...</td>\n",
              "      <td>1</td>\n",
              "    </tr>\n",
              "    <tr>\n",
              "      <th>2166</th>\n",
              "      <td>hello new follow</td>\n",
              "      <td>0</td>\n",
              "    </tr>\n",
              "    <tr>\n",
              "      <th>2911</th>\n",
              "      <td>trust me itll work everyon elsejust me</td>\n",
              "      <td>0</td>\n",
              "    </tr>\n",
              "    <tr>\n",
              "      <th>7728</th>\n",
              "      <td>graph etsi shop sale come soon yaamicom detail...</td>\n",
              "      <td>0</td>\n",
              "    </tr>\n",
              "    <tr>\n",
              "      <th>7820</th>\n",
              "      <td>no itll lay egg ur mom</td>\n",
              "      <td>0</td>\n",
              "    </tr>\n",
              "    <tr>\n",
              "      <th>...</th>\n",
              "      <td>...</td>\n",
              "      <td>...</td>\n",
              "    </tr>\n",
              "    <tr>\n",
              "      <th>2249</th>\n",
              "      <td>ill happi tweet ya well quottweet tweetquot lol</td>\n",
              "      <td>0</td>\n",
              "    </tr>\n",
              "    <tr>\n",
              "      <th>2456</th>\n",
              "      <td>student assign review done phew onto confer pa...</td>\n",
              "      <td>0</td>\n",
              "    </tr>\n",
              "    <tr>\n",
              "      <th>10211</th>\n",
              "      <td>deepika padukon rais toast surviv depress ani ...</td>\n",
              "      <td>1</td>\n",
              "    </tr>\n",
              "    <tr>\n",
              "      <th>127</th>\n",
              "      <td>happi gilmor</td>\n",
              "      <td>0</td>\n",
              "    </tr>\n",
              "    <tr>\n",
              "      <th>1465</th>\n",
              "      <td>call want belli ring back</td>\n",
              "      <td>0</td>\n",
              "    </tr>\n",
              "  </tbody>\n",
              "</table>\n",
              "<p>10314 rows × 2 columns</p>\n",
              "</div>"
            ],
            "text/plain": [
              "                                                 message  label\n",
              "9212   thank help bring light huge problem childhood ...      1\n",
              "2166                                    hello new follow      0\n",
              "2911              trust me itll work everyon elsejust me      0\n",
              "7728   graph etsi shop sale come soon yaamicom detail...      0\n",
              "7820                              no itll lay egg ur mom      0\n",
              "...                                                  ...    ...\n",
              "2249     ill happi tweet ya well quottweet tweetquot lol      0\n",
              "2456   student assign review done phew onto confer pa...      0\n",
              "10211  deepika padukon rais toast surviv depress ani ...      1\n",
              "127                                         happi gilmor      0\n",
              "1465                           call want belli ring back      0\n",
              "\n",
              "[10314 rows x 2 columns]"
            ]
          },
          "metadata": {},
          "execution_count": 15
        }
      ]
    },
    {
      "cell_type": "markdown",
      "metadata": {
        "id": "qx-_21s9Iajw"
      },
      "source": [
        "## Empty Row Remove"
      ]
    },
    {
      "cell_type": "code",
      "metadata": {
        "id": "b17K-iMYEiwV"
      },
      "source": [
        "df['message'].replace('', np.nan, inplace=True)"
      ],
      "execution_count": null,
      "outputs": []
    },
    {
      "cell_type": "code",
      "metadata": {
        "colab": {
          "base_uri": "https://localhost:8080/",
          "height": 419
        },
        "id": "DPDTTEk9ElLy",
        "outputId": "85bf1399-9147-4015-fbac-336964f18fcd"
      },
      "source": [
        "df"
      ],
      "execution_count": null,
      "outputs": [
        {
          "output_type": "execute_result",
          "data": {
            "text/html": [
              "<div>\n",
              "<style scoped>\n",
              "    .dataframe tbody tr th:only-of-type {\n",
              "        vertical-align: middle;\n",
              "    }\n",
              "\n",
              "    .dataframe tbody tr th {\n",
              "        vertical-align: top;\n",
              "    }\n",
              "\n",
              "    .dataframe thead th {\n",
              "        text-align: right;\n",
              "    }\n",
              "</style>\n",
              "<table border=\"1\" class=\"dataframe\">\n",
              "  <thead>\n",
              "    <tr style=\"text-align: right;\">\n",
              "      <th></th>\n",
              "      <th>message</th>\n",
              "      <th>label</th>\n",
              "    </tr>\n",
              "  </thead>\n",
              "  <tbody>\n",
              "    <tr>\n",
              "      <th>9212</th>\n",
              "      <td>thank help bring light huge problem childhood ...</td>\n",
              "      <td>1</td>\n",
              "    </tr>\n",
              "    <tr>\n",
              "      <th>2166</th>\n",
              "      <td>hello new follow</td>\n",
              "      <td>0</td>\n",
              "    </tr>\n",
              "    <tr>\n",
              "      <th>2911</th>\n",
              "      <td>trust me itll work everyon elsejust me</td>\n",
              "      <td>0</td>\n",
              "    </tr>\n",
              "    <tr>\n",
              "      <th>7728</th>\n",
              "      <td>graph etsi shop sale come soon yaamicom detail...</td>\n",
              "      <td>0</td>\n",
              "    </tr>\n",
              "    <tr>\n",
              "      <th>7820</th>\n",
              "      <td>no itll lay egg ur mom</td>\n",
              "      <td>0</td>\n",
              "    </tr>\n",
              "    <tr>\n",
              "      <th>...</th>\n",
              "      <td>...</td>\n",
              "      <td>...</td>\n",
              "    </tr>\n",
              "    <tr>\n",
              "      <th>2249</th>\n",
              "      <td>ill happi tweet ya well quottweet tweetquot lol</td>\n",
              "      <td>0</td>\n",
              "    </tr>\n",
              "    <tr>\n",
              "      <th>2456</th>\n",
              "      <td>student assign review done phew onto confer pa...</td>\n",
              "      <td>0</td>\n",
              "    </tr>\n",
              "    <tr>\n",
              "      <th>10211</th>\n",
              "      <td>deepika padukon rais toast surviv depress ani ...</td>\n",
              "      <td>1</td>\n",
              "    </tr>\n",
              "    <tr>\n",
              "      <th>127</th>\n",
              "      <td>happi gilmor</td>\n",
              "      <td>0</td>\n",
              "    </tr>\n",
              "    <tr>\n",
              "      <th>1465</th>\n",
              "      <td>call want belli ring back</td>\n",
              "      <td>0</td>\n",
              "    </tr>\n",
              "  </tbody>\n",
              "</table>\n",
              "<p>10314 rows × 2 columns</p>\n",
              "</div>"
            ],
            "text/plain": [
              "                                                 message  label\n",
              "9212   thank help bring light huge problem childhood ...      1\n",
              "2166                                    hello new follow      0\n",
              "2911              trust me itll work everyon elsejust me      0\n",
              "7728   graph etsi shop sale come soon yaamicom detail...      0\n",
              "7820                              no itll lay egg ur mom      0\n",
              "...                                                  ...    ...\n",
              "2249     ill happi tweet ya well quottweet tweetquot lol      0\n",
              "2456   student assign review done phew onto confer pa...      0\n",
              "10211  deepika padukon rais toast surviv depress ani ...      1\n",
              "127                                         happi gilmor      0\n",
              "1465                           call want belli ring back      0\n",
              "\n",
              "[10314 rows x 2 columns]"
            ]
          },
          "metadata": {},
          "execution_count": 17
        }
      ]
    },
    {
      "cell_type": "code",
      "metadata": {
        "id": "CYLwgsibFitE"
      },
      "source": [
        "df.dropna(subset=['message'], inplace=True)"
      ],
      "execution_count": null,
      "outputs": []
    },
    {
      "cell_type": "code",
      "metadata": {
        "colab": {
          "base_uri": "https://localhost:8080/",
          "height": 419
        },
        "id": "yymJMu83FksD",
        "outputId": "acae1fe6-bf86-4af0-d8ac-b16cf9a942d5"
      },
      "source": [
        "df"
      ],
      "execution_count": null,
      "outputs": [
        {
          "output_type": "execute_result",
          "data": {
            "text/html": [
              "<div>\n",
              "<style scoped>\n",
              "    .dataframe tbody tr th:only-of-type {\n",
              "        vertical-align: middle;\n",
              "    }\n",
              "\n",
              "    .dataframe tbody tr th {\n",
              "        vertical-align: top;\n",
              "    }\n",
              "\n",
              "    .dataframe thead th {\n",
              "        text-align: right;\n",
              "    }\n",
              "</style>\n",
              "<table border=\"1\" class=\"dataframe\">\n",
              "  <thead>\n",
              "    <tr style=\"text-align: right;\">\n",
              "      <th></th>\n",
              "      <th>message</th>\n",
              "      <th>label</th>\n",
              "    </tr>\n",
              "  </thead>\n",
              "  <tbody>\n",
              "    <tr>\n",
              "      <th>9212</th>\n",
              "      <td>thank help bring light huge problem childhood ...</td>\n",
              "      <td>1</td>\n",
              "    </tr>\n",
              "    <tr>\n",
              "      <th>2166</th>\n",
              "      <td>hello new follow</td>\n",
              "      <td>0</td>\n",
              "    </tr>\n",
              "    <tr>\n",
              "      <th>2911</th>\n",
              "      <td>trust me itll work everyon elsejust me</td>\n",
              "      <td>0</td>\n",
              "    </tr>\n",
              "    <tr>\n",
              "      <th>7728</th>\n",
              "      <td>graph etsi shop sale come soon yaamicom detail...</td>\n",
              "      <td>0</td>\n",
              "    </tr>\n",
              "    <tr>\n",
              "      <th>7820</th>\n",
              "      <td>no itll lay egg ur mom</td>\n",
              "      <td>0</td>\n",
              "    </tr>\n",
              "    <tr>\n",
              "      <th>...</th>\n",
              "      <td>...</td>\n",
              "      <td>...</td>\n",
              "    </tr>\n",
              "    <tr>\n",
              "      <th>2249</th>\n",
              "      <td>ill happi tweet ya well quottweet tweetquot lol</td>\n",
              "      <td>0</td>\n",
              "    </tr>\n",
              "    <tr>\n",
              "      <th>2456</th>\n",
              "      <td>student assign review done phew onto confer pa...</td>\n",
              "      <td>0</td>\n",
              "    </tr>\n",
              "    <tr>\n",
              "      <th>10211</th>\n",
              "      <td>deepika padukon rais toast surviv depress ani ...</td>\n",
              "      <td>1</td>\n",
              "    </tr>\n",
              "    <tr>\n",
              "      <th>127</th>\n",
              "      <td>happi gilmor</td>\n",
              "      <td>0</td>\n",
              "    </tr>\n",
              "    <tr>\n",
              "      <th>1465</th>\n",
              "      <td>call want belli ring back</td>\n",
              "      <td>0</td>\n",
              "    </tr>\n",
              "  </tbody>\n",
              "</table>\n",
              "<p>10279 rows × 2 columns</p>\n",
              "</div>"
            ],
            "text/plain": [
              "                                                 message  label\n",
              "9212   thank help bring light huge problem childhood ...      1\n",
              "2166                                    hello new follow      0\n",
              "2911              trust me itll work everyon elsejust me      0\n",
              "7728   graph etsi shop sale come soon yaamicom detail...      0\n",
              "7820                              no itll lay egg ur mom      0\n",
              "...                                                  ...    ...\n",
              "2249     ill happi tweet ya well quottweet tweetquot lol      0\n",
              "2456   student assign review done phew onto confer pa...      0\n",
              "10211  deepika padukon rais toast surviv depress ani ...      1\n",
              "127                                         happi gilmor      0\n",
              "1465                           call want belli ring back      0\n",
              "\n",
              "[10279 rows x 2 columns]"
            ]
          },
          "metadata": {},
          "execution_count": 19
        }
      ]
    },
    {
      "cell_type": "markdown",
      "metadata": {
        "id": "2sqJEwc6Ihsj"
      },
      "source": [
        "## Tokenize Message"
      ]
    },
    {
      "cell_type": "code",
      "metadata": {
        "id": "6H_6mL0azeeM"
      },
      "source": [
        "tknzr = TweetTokenizer(strip_handles=True)\n",
        "def tweet_tokenizer(text):\n",
        "    return tknzr.tokenize(text)\n",
        "df['message'] = df['message'].apply(tweet_tokenizer)"
      ],
      "execution_count": null,
      "outputs": []
    },
    {
      "cell_type": "code",
      "metadata": {
        "colab": {
          "base_uri": "https://localhost:8080/",
          "height": 419
        },
        "id": "nWAPsx20sO7F",
        "outputId": "23c53527-891b-4278-c49f-de9aea1a7e30"
      },
      "source": [
        "df"
      ],
      "execution_count": null,
      "outputs": [
        {
          "output_type": "execute_result",
          "data": {
            "text/html": [
              "<div>\n",
              "<style scoped>\n",
              "    .dataframe tbody tr th:only-of-type {\n",
              "        vertical-align: middle;\n",
              "    }\n",
              "\n",
              "    .dataframe tbody tr th {\n",
              "        vertical-align: top;\n",
              "    }\n",
              "\n",
              "    .dataframe thead th {\n",
              "        text-align: right;\n",
              "    }\n",
              "</style>\n",
              "<table border=\"1\" class=\"dataframe\">\n",
              "  <thead>\n",
              "    <tr style=\"text-align: right;\">\n",
              "      <th></th>\n",
              "      <th>message</th>\n",
              "      <th>label</th>\n",
              "    </tr>\n",
              "  </thead>\n",
              "  <tbody>\n",
              "    <tr>\n",
              "      <th>9212</th>\n",
              "      <td>[thank, help, bring, light, huge, problem, chi...</td>\n",
              "      <td>1</td>\n",
              "    </tr>\n",
              "    <tr>\n",
              "      <th>2166</th>\n",
              "      <td>[hello, new, follow]</td>\n",
              "      <td>0</td>\n",
              "    </tr>\n",
              "    <tr>\n",
              "      <th>2911</th>\n",
              "      <td>[trust, me, itll, work, everyon, elsejust, me]</td>\n",
              "      <td>0</td>\n",
              "    </tr>\n",
              "    <tr>\n",
              "      <th>7728</th>\n",
              "      <td>[graph, etsi, shop, sale, come, soon, yaamicom...</td>\n",
              "      <td>0</td>\n",
              "    </tr>\n",
              "    <tr>\n",
              "      <th>7820</th>\n",
              "      <td>[no, itll, lay, egg, ur, mom]</td>\n",
              "      <td>0</td>\n",
              "    </tr>\n",
              "    <tr>\n",
              "      <th>...</th>\n",
              "      <td>...</td>\n",
              "      <td>...</td>\n",
              "    </tr>\n",
              "    <tr>\n",
              "      <th>2249</th>\n",
              "      <td>[ill, happi, tweet, ya, well, quottweet, tweet...</td>\n",
              "      <td>0</td>\n",
              "    </tr>\n",
              "    <tr>\n",
              "      <th>2456</th>\n",
              "      <td>[student, assign, review, done, phew, onto, co...</td>\n",
              "      <td>0</td>\n",
              "    </tr>\n",
              "    <tr>\n",
              "      <th>10211</th>\n",
              "      <td>[deepika, padukon, rais, toast, surviv, depres...</td>\n",
              "      <td>1</td>\n",
              "    </tr>\n",
              "    <tr>\n",
              "      <th>127</th>\n",
              "      <td>[happi, gilmor]</td>\n",
              "      <td>0</td>\n",
              "    </tr>\n",
              "    <tr>\n",
              "      <th>1465</th>\n",
              "      <td>[call, want, belli, ring, back]</td>\n",
              "      <td>0</td>\n",
              "    </tr>\n",
              "  </tbody>\n",
              "</table>\n",
              "<p>10279 rows × 2 columns</p>\n",
              "</div>"
            ],
            "text/plain": [
              "                                                 message  label\n",
              "9212   [thank, help, bring, light, huge, problem, chi...      1\n",
              "2166                                [hello, new, follow]      0\n",
              "2911      [trust, me, itll, work, everyon, elsejust, me]      0\n",
              "7728   [graph, etsi, shop, sale, come, soon, yaamicom...      0\n",
              "7820                       [no, itll, lay, egg, ur, mom]      0\n",
              "...                                                  ...    ...\n",
              "2249   [ill, happi, tweet, ya, well, quottweet, tweet...      0\n",
              "2456   [student, assign, review, done, phew, onto, co...      0\n",
              "10211  [deepika, padukon, rais, toast, surviv, depres...      1\n",
              "127                                      [happi, gilmor]      0\n",
              "1465                     [call, want, belli, ring, back]      0\n",
              "\n",
              "[10279 rows x 2 columns]"
            ]
          },
          "metadata": {},
          "execution_count": 21
        }
      ]
    },
    {
      "cell_type": "markdown",
      "metadata": {
        "id": "SE3-V2Q9ImZI"
      },
      "source": [
        "# Train Test Split"
      ]
    },
    {
      "cell_type": "code",
      "metadata": {
        "id": "akUAEpLp6kFL"
      },
      "source": [
        "train, test = train_test_split(df,test_size=0.2, random_state=42)\n",
        "train, valid = train_test_split(train,test_size=0.2, random_state=42)"
      ],
      "execution_count": null,
      "outputs": []
    },
    {
      "cell_type": "markdown",
      "metadata": {
        "id": "E14NcmordddS"
      },
      "source": [
        "# Glove Load"
      ]
    },
    {
      "cell_type": "code",
      "metadata": {
        "id": "tDZ9OShvy2or",
        "colab": {
          "base_uri": "https://localhost:8080/"
        },
        "outputId": "0c8a6a5b-3272-4ed3-d930-323293f686dc"
      },
      "source": [
        "# The first time you run this will download a ~823MB file\n",
        "glove = torchtext.vocab.GloVe(name=\"6B\", dim=50, max_vectors=20000)"
      ],
      "execution_count": null,
      "outputs": [
        {
          "output_type": "stream",
          "name": "stderr",
          "text": [
            ".vector_cache/glove.6B.zip: 862MB [02:42, 5.30MB/s]                           \n",
            "100%|█████████▉| 19999/20000 [00:00<00:00, 25739.68it/s]\n"
          ]
        }
      ]
    },
    {
      "cell_type": "markdown",
      "metadata": {
        "id": "OlfXnq1qJFok"
      },
      "source": [
        "# Making Data Loader"
      ]
    },
    {
      "cell_type": "code",
      "metadata": {
        "id": "UCEJKd_f6vcS"
      },
      "source": [
        "def get_tweet_vectors(glove_vector, dataframe):\n",
        "  vectorList = []\n",
        "  for index, row in dataframe.iterrows():\n",
        "    tweet = row['message']\n",
        "    vector_sum = sum(glove_vector[w] for w in tweet)\n",
        "    label = row['label']\n",
        "    vectorList.append((vector_sum, label))\n",
        "  return vectorList"
      ],
      "execution_count": null,
      "outputs": []
    },
    {
      "cell_type": "code",
      "metadata": {
        "id": "heGf96gO65ba"
      },
      "source": [
        "train = get_tweet_vectors(glove, train)\n",
        "test = get_tweet_vectors(glove, test)\n",
        "valid = get_tweet_vectors(glove, valid)\n",
        "\n",
        "train_loader = torch.utils.data.DataLoader(train, batch_size, shuffle=True)\n",
        "valid_loader = torch.utils.data.DataLoader(valid, batch_size, shuffle=False)\n",
        "test_loader = torch.utils.data.DataLoader(test, batch_size, shuffle=False)"
      ],
      "execution_count": null,
      "outputs": []
    },
    {
      "cell_type": "markdown",
      "metadata": {
        "id": "QJtajm3IAfm8"
      },
      "source": [
        "# Three Recurrent Layer RNN"
      ]
    },
    {
      "cell_type": "markdown",
      "metadata": {
        "id": "nRm3MYkW8QVU"
      },
      "source": [
        "### Step #1 : Design model using class"
      ]
    },
    {
      "cell_type": "code",
      "metadata": {
        "id": "t2lVMJyH1zig"
      },
      "source": [
        "#credit : https://github.com/yunjey/pytorch-tutorial/\n",
        "\n",
        "class RNN(nn.Module):\n",
        "    def __init__(self, input_size, hidden_size, num_layers, num_classes):\n",
        "        super(RNN, self).__init__()\n",
        "        self.hidden_size = hidden_size\n",
        "        self.num_layers = num_layers\n",
        "        self.rnn = nn.RNN(input_size, hidden_size, num_layers, batch_first=True)\n",
        "        self.fc = nn.Linear(hidden_size, num_classes)\n",
        "    \n",
        "    def forward(self, x):\n",
        "        # Set initial hidden and cell states \n",
        "        h0 = torch.zeros(self.num_layers, x.size(0), self.hidden_size).to(device) \n",
        "        out, _ = self.rnn(x, h0)  # out: tensor of shape (batch_size, seq_length)\n",
        "        \n",
        "        # Decode the hidden state of the last time step\n",
        "        out = self.fc(out[:, -1, :])\n",
        "        return out"
      ],
      "execution_count": null,
      "outputs": []
    },
    {
      "cell_type": "code",
      "metadata": {
        "id": "nd6zkeNOK8tE",
        "colab": {
          "base_uri": "https://localhost:8080/"
        },
        "outputId": "c9fc8822-16fe-440e-a9de-8dfb5532e43b"
      },
      "source": [
        "'''\n",
        "INSTANTIATE MODEL CLASS\n",
        "'''\n",
        "model = RNN(input_size, hidden_size, num_layers, num_classes)\n",
        "\n",
        "# To enable GPU\n",
        "model.to(device)"
      ],
      "execution_count": null,
      "outputs": [
        {
          "output_type": "execute_result",
          "data": {
            "text/plain": [
              "RNN(\n",
              "  (rnn): RNN(50, 128, num_layers=3, batch_first=True)\n",
              "  (fc): Linear(in_features=128, out_features=2, bias=True)\n",
              ")"
            ]
          },
          "metadata": {},
          "execution_count": 27
        }
      ]
    },
    {
      "cell_type": "markdown",
      "metadata": {
        "id": "pdrDJPOKzdSp"
      },
      "source": [
        "### Step #2 : Construct loss and optimizer"
      ]
    },
    {
      "cell_type": "code",
      "metadata": {
        "id": "47bW4dJQLHNV"
      },
      "source": [
        "# Loss and optimizer\n",
        "criterion = nn.CrossEntropyLoss()\n",
        "optimizer = torch.optim.Adam(model.parameters(), lr=learning_rate)"
      ],
      "execution_count": null,
      "outputs": []
    },
    {
      "cell_type": "markdown",
      "metadata": {
        "id": "I2Hb_JQ6AUok"
      },
      "source": [
        "### Step #3 : Training: forward, loss, backward, step"
      ]
    },
    {
      "cell_type": "code",
      "metadata": {
        "colab": {
          "base_uri": "https://localhost:8080/"
        },
        "id": "5_c9xREMCWK4",
        "outputId": "2fff074d-e9a1-4340-fdd7-42f0824499ca"
      },
      "source": [
        "iteration_loss = []\n",
        "for epoch in range(num_epochs):\n",
        "  for i, (messages, labels) in enumerate(train_loader):\n",
        "    messages = messages.unsqueeze(-2).to(device)\n",
        "    labels = labels.to(device)\n",
        "    model.zero_grad()\n",
        "    output = model(messages)\n",
        "    loss = criterion(output, labels)\n",
        "    loss.backward()\n",
        "    optimizer.step()\n",
        "  if epoch % 5 == 4:\n",
        "    # For Testing Data\n",
        "    # Calculate Accuracy         \n",
        "    correct = 0\n",
        "    total = 0\n",
        "    # Iterate through dataset\n",
        "    for i, (messages, labels) in enumerate(test_loader):\n",
        "      messages = messages.unsqueeze(-2).to(device)\n",
        "\n",
        "      # Forward pass only to get logits/output\n",
        "      output = model(messages)\n",
        "\n",
        "      # Get predictions from the maximum value\n",
        "      _, predicted = torch.max(output, 1)\n",
        "\n",
        "      # Total number of labels\n",
        "      total += labels.size(0)\n",
        "\n",
        "      # Total correct predictions\n",
        "      if torch.cuda.is_available():\n",
        "        correct += (predicted.cpu() == labels.cpu()).sum() \n",
        "      else:\n",
        "        correct += (predicted == labels).sum()\n",
        "\n",
        "    if epoch>25 and  loss.item()> iteration_loss[-1]:\n",
        "      break\n",
        "    iteration_loss.append(loss.item())\n",
        "    test_accuracy = 100 * correct.item() / total\n",
        "    # For Validating Data\n",
        "    # Calculate Accuracy         \n",
        "    correct = 0\n",
        "    total = 0\n",
        "    # Iterate through dataset\n",
        "    for i, (messages, labels) in enumerate(valid_loader):\n",
        "      messages = messages.unsqueeze(-2).to(device)\n",
        "\n",
        "      # Forward pass only to get logits/output\n",
        "      output = model(messages)\n",
        "\n",
        "      # Get predictions from the maximum value\n",
        "      _, predicted = torch.max(output, 1)\n",
        "\n",
        "      # Total number of labels\n",
        "      total += labels.size(0)\n",
        "\n",
        "      # Total correct predictions\n",
        "      if torch.cuda.is_available():\n",
        "        correct += (predicted.cpu() == labels.cpu()).sum() \n",
        "      else:\n",
        "        correct += (predicted == labels).sum()\n",
        "\n",
        "    validation_accuracy = 100 * correct.item() / total\n",
        "    # Print Loss\n",
        "    print('Epoch: {}. Loss: {}. Testing Accuracy: {}. Validation Accuracy: {}'.format(epoch+1, iteration_loss[-1], test_accuracy, validation_accuracy))"
      ],
      "execution_count": null,
      "outputs": [
        {
          "output_type": "stream",
          "name": "stdout",
          "text": [
            "Epoch: 5. Loss: 0.3599979281425476. Testing Accuracy: 85.16536964980544. Validation Accuracy: 86.32218844984803\n",
            "Epoch: 10. Loss: 0.2913890779018402. Testing Accuracy: 85.21400778210116. Validation Accuracy: 86.56534954407294\n",
            "Epoch: 15. Loss: 0.2884097099304199. Testing Accuracy: 85.16536964980544. Validation Accuracy: 86.74772036474164\n",
            "Epoch: 20. Loss: 0.13477368652820587. Testing Accuracy: 84.87354085603113. Validation Accuracy: 86.44376899696049\n",
            "Epoch: 25. Loss: 0.28359732031822205. Testing Accuracy: 85.3112840466926. Validation Accuracy: 85.8966565349544\n",
            "Epoch: 30. Loss: 0.2717471122741699. Testing Accuracy: 84.53307392996109. Validation Accuracy: 86.0790273556231\n"
          ]
        }
      ]
    },
    {
      "cell_type": "markdown",
      "metadata": {
        "id": "-14ApMZYIard"
      },
      "source": [
        "### Iteration Vs Loss"
      ]
    },
    {
      "cell_type": "code",
      "metadata": {
        "id": "Qak7Ri0SrgoA",
        "colab": {
          "base_uri": "https://localhost:8080/",
          "height": 295
        },
        "outputId": "d7cd4103-4385-41cf-91b2-913c21651724"
      },
      "source": [
        "plt.title(\"Loss vs Iteration\")\n",
        "plt.plot(iteration_loss)\n",
        "plt.ylabel('Cross Entropy Loss')\n",
        "plt.xlabel('Iteration (in every 5)')\n",
        "plt.show()"
      ],
      "execution_count": null,
      "outputs": [
        {
          "output_type": "display_data",
          "data": {
            "image/png": "[encoded data removed]",
            "text/plain": [
              "<Figure size 432x288 with 1 Axes>"
            ]
          },
          "metadata": {
            "needs_background": "light"
          }
        }
      ]
    },
    {
      "cell_type": "code",
      "metadata": {
        "id": "V8kVyAzOjsAr"
      },
      "source": [
        "def get_all_prediction(loader):\n",
        "  predictions_list = torch.tensor([], dtype=torch.int32)\n",
        "  labels_list = torch.tensor([], dtype=torch.int32)\n",
        "  for i, (messages, labels) in enumerate(loader):\n",
        "    messages = messages.unsqueeze(-2).to(device)\n",
        "\n",
        "    # Forward pass only to get logits/output\n",
        "    outputs = model(messages)\n",
        "\n",
        "    # Get predictions from the maximum value\n",
        "    _, predictions = torch.max(outputs, 1)\n",
        "    predictions_list = torch.cat((predictions_list, predictions.cpu()), dim = 0)\n",
        "    labels_list = torch.cat((labels_list.cpu(), labels.cpu()), dim = 0).to(device)\n",
        "  return predictions_list, labels_list.cpu()"
      ],
      "execution_count": null,
      "outputs": []
    },
    {
      "cell_type": "code",
      "metadata": {
        "colab": {
          "base_uri": "https://localhost:8080/",
          "height": 365
        },
        "id": "-m_45e6oQs6m",
        "outputId": "3328fedf-4005-444e-ac7d-5dba27cffa27"
      },
      "source": [
        "y_pred, y_true = get_all_prediction(test_loader)\n",
        "print('Accuracy: ' +str(accuracy_score(y_true, y_pred) * 100))\n",
        "print('Precision: ' +str(precision_score(y_true, y_pred, average='micro') * 100))\n",
        "print('Recall: ' +str(recall_score(y_true, y_pred, average='micro') * 100))\n",
        "print('F1 score: ' +str(f1_score(y_true, y_pred, average='micro')  * 100))\n",
        "confusion_mtx = confusion_matrix(y_true, y_pred)\n",
        "plot_confusion_matrix(confusion_mtx, classes = range(2))"
      ],
      "execution_count": null,
      "outputs": [
        {
          "output_type": "stream",
          "name": "stdout",
          "text": [
            "Accuracy: 84.53307392996109\n",
            "Precision: 84.53307392996109\n",
            "Recall: 84.53307392996109\n",
            "F1 score: 84.53307392996109\n"
          ]
        },
        {
          "output_type": "display_data",
          "data": {
            "image/png": "[encoded data removed]",
            "text/plain": [
              "<Figure size 432x288 with 2 Axes>"
            ]
          },
          "metadata": {
            "needs_background": "light"
          }
        }
      ]
    },
    {
      "cell_type": "markdown",
      "metadata": {
        "id": "fABdi2jbhHN-"
      },
      "source": [
        "# Prediction"
      ]
    },
    {
      "cell_type": "code",
      "metadata": {
        "id": "belg4XegE80S"
      },
      "source": [
        "root_path = \"/content/drive/MyDrive/Colab Notebooks/soft computing assignment 3/\"\n",
        "torch.save(model.state_dict(), root_path + 'RNN.pkl')"
      ],
      "execution_count": null,
      "outputs": []
    },
    {
      "cell_type": "code",
      "metadata": {
        "colab": {
          "base_uri": "https://localhost:8080/"
        },
        "id": "-L1znbQQli2T",
        "outputId": "a5dee73d-7c70-4928-f6ad-f5ba7fabb227"
      },
      "source": [
        "model.load_state_dict(torch.load(root_path + 'RNN.pkl'))"
      ],
      "execution_count": null,
      "outputs": [
        {
          "output_type": "execute_result",
          "data": {
            "text/plain": [
              "<All keys matched successfully>"
            ]
          },
          "metadata": {},
          "execution_count": 34
        }
      ]
    },
    {
      "cell_type": "code",
      "metadata": {
        "id": "7uzrzWoA1430"
      },
      "source": [
        "def predict_sentiment(messages):\n",
        "  messages = sum(glove[w] for w in messages)\n",
        "  messages = messages.reshape(1, 1, 50).to(device)\n",
        "  output = model(messages)\n",
        "  _, predicted = torch.max(output, 1)\n",
        "  if predicted > 0.5:\n",
        "    print('Positive sentiment')\n",
        "  else:\n",
        "    print('Negative sentiment')"
      ],
      "execution_count": null,
      "outputs": []
    },
    {
      "cell_type": "code",
      "metadata": {
        "colab": {
          "base_uri": "https://localhost:8080/"
        },
        "id": "8715ZrZd293v",
        "outputId": "28a2a0fa-437e-4e60-b75b-99aada78be67"
      },
      "source": [
        "test_text = input()\n",
        "predict_sentiment(test_text)"
      ],
      "execution_count": null,
      "outputs": [
        {
          "output_type": "stream",
          "name": "stdout",
          "text": [
            "I am happy\n",
            "Positive sentiment\n"
          ]
        }
      ]
    },
    {
      "cell_type": "code",
      "metadata": {
        "id": "-NKQP9JgtJKW"
      },
      "source": [
        ""
      ],
      "execution_count": null,
      "outputs": []
    }
  ]
}